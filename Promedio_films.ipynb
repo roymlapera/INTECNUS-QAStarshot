{
  "nbformat": 4,
  "nbformat_minor": 0,
  "metadata": {
    "colab": {
      "provenance": []
    },
    "kernelspec": {
      "name": "python3",
      "display_name": "Python 3"
    }
  },
  "cells": [
    {
      "cell_type": "code",
      "metadata": {
        "id": "OLvBrwEqA28u",
        "colab": {
          "base_uri": "https://localhost:8080/"
        },
        "outputId": "3b5d030f-ee07-4ceb-bcc7-40ae7963137a"
      },
      "source": [
        "from google.colab import drive\n",
        "drive.mount('/content/drive')"
      ],
      "execution_count": null,
      "outputs": [
        {
          "output_type": "stream",
          "name": "stdout",
          "text": [
            "Mounted at /content/drive\n"
          ]
        }
      ]
    },
    {
      "cell_type": "code",
      "metadata": {
        "id": "NVGxd5LAA7Tm",
        "colab": {
          "base_uri": "https://localhost:8080/"
        },
        "outputId": "7956aa82-a795-464c-f930-0c8224b64981"
      },
      "source": [
        "ls '/content/drive/My Drive/Script google colab/Promediar'"
      ],
      "execution_count": null,
      "outputs": [
        {
          "output_type": "stream",
          "name": "stdout",
          "text": [
            "2.tif  3.tif  4.tif  5.tif  \u001b[0m\u001b[01;34mPromediados\u001b[0m/\n"
          ]
        }
      ]
    },
    {
      "cell_type": "code",
      "metadata": {
        "id": "a6DVQi6LDzbY"
      },
      "source": [
        "import PIL\n",
        "from PIL import Image\n",
        "import numpy as np\n",
        "import tifffile as tif\n",
        "#COMENT"
      ],
      "execution_count": null,
      "outputs": []
    },
    {
      "cell_type": "code",
      "metadata": {
        "id": "wjWGFxbYKR-T",
        "colab": {
          "base_uri": "https://localhost:8080/"
        },
        "outputId": "86ff3fae-eeb8-431e-eca9-b90ef25e57dc"
      },
      "source": [
        "I2=tif.imread('/content/drive/My Drive/Script google colab/Promediar/2.tif')\n",
        "I2=np.array(I2,np.uint32)[:,:,0]\n",
        "print (I2)\n",
        "I2.shape\n",
        "\n",
        "\n"
      ],
      "execution_count": null,
      "outputs": [
        {
          "output_type": "stream",
          "name": "stdout",
          "text": [
            "[[22607 24338 24759 ... 21970 21598 21066]\n",
            " [23984 25274 25501 ... 22477 22853 21799]\n",
            " [24216 24938 24175 ... 23159 22312 23279]\n",
            " ...\n",
            " [25076 22402 22307 ... 23711 23102 24060]\n",
            " [23919 21749 20837 ... 24020 23591 23973]\n",
            " [22521 21088 20771 ... 23255 23000 22267]]\n"
          ]
        },
        {
          "output_type": "execute_result",
          "data": {
            "text/plain": [
              "(274, 414)"
            ]
          },
          "metadata": {},
          "execution_count": 4
        }
      ]
    },
    {
      "cell_type": "code",
      "metadata": {
        "colab": {
          "base_uri": "https://localhost:8080/"
        },
        "id": "L5eHYlKm5g3l",
        "outputId": "4b460072-e510-4120-b48b-dfb424c09677"
      },
      "source": [
        "I3=tif.imread('/content/drive/My Drive/Script google colab/Promediar/3.tif')\n",
        "I3=np.array(I3,np.uint32)[:,:,0]\n",
        "print (I3)\n",
        "I3.shape"
      ],
      "execution_count": null,
      "outputs": [
        {
          "output_type": "stream",
          "name": "stdout",
          "text": [
            "[[22737 24524 24788 ... 21973 21722 20939]\n",
            " [24169 25403 25404 ... 22577 22692 21377]\n",
            " [24282 24911 24173 ... 22974 22609 23348]\n",
            " ...\n",
            " [24859 22320 22294 ... 23804 23213 24095]\n",
            " [23769 21695 20860 ... 24079 23804 24025]\n",
            " [22475 21063 20992 ... 23295 23229 22241]]\n"
          ]
        },
        {
          "output_type": "execute_result",
          "data": {
            "text/plain": [
              "(274, 414)"
            ]
          },
          "metadata": {},
          "execution_count": 5
        }
      ]
    },
    {
      "cell_type": "code",
      "metadata": {
        "colab": {
          "base_uri": "https://localhost:8080/"
        },
        "id": "8zRvX6UkGSiP",
        "outputId": "8fb1086e-beba-401b-c1a7-61fa320ed025"
      },
      "source": [
        "I4=tif.imread('/content/drive/My Drive/Script google colab/Promediar/4.tif')\n",
        "I4=np.array(I4,np.uint32)[:,:,0]\n",
        "print (I4)\n",
        "I4.shape"
      ],
      "execution_count": null,
      "outputs": [
        {
          "output_type": "stream",
          "name": "stdout",
          "text": [
            "[[22705 24498 24887 ... 22007 21764 20958]\n",
            " [24122 25383 25349 ... 22456 22732 21569]\n",
            " [24285 24932 24193 ... 23072 22575 23384]\n",
            " ...\n",
            " [24856 22344 22360 ... 23777 23099 24070]\n",
            " [23786 21737 20925 ... 24188 23814 23967]\n",
            " [22486 21061 20959 ... 23413 23263 22254]]\n"
          ]
        },
        {
          "output_type": "execute_result",
          "data": {
            "text/plain": [
              "(274, 414)"
            ]
          },
          "metadata": {},
          "execution_count": 6
        }
      ]
    },
    {
      "cell_type": "code",
      "metadata": {
        "colab": {
          "base_uri": "https://localhost:8080/"
        },
        "id": "ERacWZtSGTDA",
        "outputId": "27273005-be96-40b1-8833-b0666e089be2"
      },
      "source": [
        "I5=tif.imread('/content/drive/My Drive/Script google colab/Promediar/5.tif')\n",
        "I5=np.array(I5,np.uint32)[:,:,0]\n",
        "print (I5)\n",
        "I5.shape"
      ],
      "execution_count": null,
      "outputs": [
        {
          "output_type": "stream",
          "name": "stdout",
          "text": [
            "[[22547 24426 25021 ... 22035 21908 20963]\n",
            " [23794 25330 25699 ... 22590 22715 21591]\n",
            " [24084 24919 24282 ... 23039 22545 23344]\n",
            " ...\n",
            " [25359 22664 22409 ... 23854 23285 24050]\n",
            " [24470 22104 20848 ... 24127 23789 23923]\n",
            " [23058 21378 20659 ... 23419 23114 22291]]\n"
          ]
        },
        {
          "output_type": "execute_result",
          "data": {
            "text/plain": [
              "(274, 414)"
            ]
          },
          "metadata": {},
          "execution_count": 7
        }
      ]
    },
    {
      "cell_type": "code",
      "metadata": {
        "colab": {
          "base_uri": "https://localhost:8080/"
        },
        "id": "rBQCT4wy5pzX",
        "outputId": "12cb9b95-e7ba-4899-f3ec-db654b058004"
      },
      "source": [
        "Promedio=(I2+I3+I4+I5)/4\n",
        "print(Promedio)"
      ],
      "execution_count": null,
      "outputs": [
        {
          "output_type": "stream",
          "name": "stdout",
          "text": [
            "[[22649.   24446.5  24863.75 ... 21996.25 21748.   20981.5 ]\n",
            " [24017.25 25347.5  25488.25 ... 22525.   22748.   21584.  ]\n",
            " [24216.75 24925.   24205.75 ... 23061.   22510.25 23338.75]\n",
            " ...\n",
            " [25037.5  22432.5  22342.5  ... 23786.5  23174.75 24068.75]\n",
            " [23986.   21821.25 20867.5  ... 24103.5  23749.5  23972.  ]\n",
            " [22635.   21147.5  20845.25 ... 23345.5  23151.5  22263.25]]\n"
          ]
        }
      ]
    },
    {
      "cell_type": "code",
      "metadata": {
        "colab": {
          "base_uri": "https://localhost:8080/"
        },
        "id": "nvu9QPLeIATl",
        "outputId": "59f0cf63-16d7-4227-f42d-d00d3c1fddec"
      },
      "source": [
        "Promedio=np.uint16(Promedio)\n",
        "print(Promedio)"
      ],
      "execution_count": null,
      "outputs": [
        {
          "output_type": "stream",
          "name": "stdout",
          "text": [
            "[[22649 24446 24863 ... 21996 21748 20981]\n",
            " [24017 25347 25488 ... 22525 22748 21584]\n",
            " [24216 24925 24205 ... 23061 22510 23338]\n",
            " ...\n",
            " [25037 22432 22342 ... 23786 23174 24068]\n",
            " [23986 21821 20867 ... 24103 23749 23972]\n",
            " [22635 21147 20845 ... 23345 23151 22263]]\n"
          ]
        }
      ]
    },
    {
      "cell_type": "code",
      "metadata": {
        "id": "TW27KT19_Rfh"
      },
      "source": [
        "Image.fromarray(Promedio).save('/content/drive/My Drive/Script google colab/Promediar/Promedio_DIAZ_M.tif',dpi=(72,72))"
      ],
      "execution_count": null,
      "outputs": []
    },
    {
      "cell_type": "code",
      "source": [],
      "metadata": {
        "id": "VAva24TK6fmO"
      },
      "execution_count": null,
      "outputs": []
    }
  ]
}